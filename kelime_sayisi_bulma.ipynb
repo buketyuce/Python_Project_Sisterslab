{
 "cells": [
  {
   "cell_type": "code",
   "execution_count": null,
   "id": "efff2e63-3ba2-4965-b2db-b6766a416fd2",
   "metadata": {},
   "outputs": [],
   "source": [
    "\n",
    "import os\n",
    "\n",
    "getFolder = os.path.dirname(os.path.abspath(__file__))\n",
    "mainFile = os.path.join(getFolder, \"istanbul_data_yeni_hali.txt\")\n",
    "\n",
    "# txt dosyasını açtım.\n",
    "file = open(mainFile)\n",
    "line = file.read()\n",
    "file.close()\n",
    "\n",
    "# kelimeleri böldüm\n",
    "splitWords = line.split()\n",
    "allWords={}\n",
    "\n",
    "for word in splitWords:\n",
    "    if word not in allWords:\n",
    "        allWords[word] = 1\n",
    "    else:\n",
    "        allWords[word] += 1\n",
    "\n",
    "#kelime sıklığını ve kelimeleri yazdırdım.\n",
    "for key in allWords.keys():\n",
    "   print (\"Word: %s =>%s \" %(key , allWords[key]))"
   ]
  },
  {
   "cell_type": "code",
   "execution_count": null,
   "id": "a2156c93-e9a2-4954-8784-a443d2b90c4a",
   "metadata": {},
   "outputs": [],
   "source": []
  }
 ],
 "metadata": {
  "kernelspec": {
   "display_name": "Python 3 (ipykernel)",
   "language": "python",
   "name": "python3"
  },
  "language_info": {
   "codemirror_mode": {
    "name": "ipython",
    "version": 3
   },
   "file_extension": ".py",
   "mimetype": "text/x-python",
   "name": "python",
   "nbconvert_exporter": "python",
   "pygments_lexer": "ipython3",
   "version": "3.9.7"
  }
 },
 "nbformat": 4,
 "nbformat_minor": 5
}
