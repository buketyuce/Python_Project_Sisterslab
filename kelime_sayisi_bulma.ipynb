{
 "cells": [
  {
   "cell_type": "code",
   "execution_count": 1,
   "id": "efff2e63-3ba2-4965-b2db-b6766a416fd2",
   "metadata": {},
   "outputs": [
    {
     "ename": "FileNotFoundError",
     "evalue": "[Errno 2] No such file or directory: 'istanbul_data.txt'",
     "output_type": "error",
     "traceback": [
      "\u001b[1;31m---------------------------------------------------------------------------\u001b[0m",
      "\u001b[1;31mFileNotFoundError\u001b[0m                         Traceback (most recent call last)",
      "\u001b[1;32m~\\AppData\\Local\\Temp/ipykernel_3332/3623780281.py\u001b[0m in \u001b[0;36m<module>\u001b[1;34m\u001b[0m\n\u001b[0;32m      7\u001b[0m \u001b[1;33m\u001b[0m\u001b[0m\n\u001b[0;32m      8\u001b[0m \u001b[1;31m#Metni okuttum.\u001b[0m\u001b[1;33m\u001b[0m\u001b[1;33m\u001b[0m\u001b[0m\n\u001b[1;32m----> 9\u001b[1;33m \u001b[1;32mwith\u001b[0m \u001b[0mopen\u001b[0m\u001b[1;33m(\u001b[0m\u001b[1;34m\"istanbul_data.txt\"\u001b[0m\u001b[1;33m,\u001b[0m \u001b[1;34m\"r+\"\u001b[0m\u001b[1;33m,\u001b[0m \u001b[0mencoding\u001b[0m\u001b[1;33m=\u001b[0m\u001b[1;34m\"utf8\"\u001b[0m\u001b[1;33m)\u001b[0m \u001b[1;32mas\u001b[0m \u001b[0mdosya\u001b[0m\u001b[1;33m:\u001b[0m\u001b[1;33m\u001b[0m\u001b[1;33m\u001b[0m\u001b[0m\n\u001b[0m\u001b[0;32m     10\u001b[0m     \u001b[0mmetin\u001b[0m \u001b[1;33m=\u001b[0m \u001b[0mdosya\u001b[0m\u001b[1;33m.\u001b[0m\u001b[0mread\u001b[0m\u001b[1;33m(\u001b[0m\u001b[1;33m)\u001b[0m\u001b[1;33m\u001b[0m\u001b[1;33m\u001b[0m\u001b[0m\n\u001b[0;32m     11\u001b[0m \u001b[1;33m\u001b[0m\u001b[0m\n",
      "\u001b[1;31mFileNotFoundError\u001b[0m: [Errno 2] No such file or directory: 'istanbul_data.txt'"
     ]
    }
   ],
   "source": [
    "import os\n",
    "\n",
    "getFolder = os.path.dirname(os.path.abspath(__file__))\n",
    "mainFile = os.path.join(getFolder, \"istanbul_data_yeni_hali.txt\")\n",
    "\n",
    "# txt dosyasını açtım.\n",
    "file = open(mainFile)\n",
    "line = file.read()\n",
    "file.close()\n",
    "\n",
    "# kelimeleri böldüm\n",
    "splitWords = line.split()\n",
    "allWords={}\n",
    "\n",
    "for word in splitWords:\n",
    "    if word not in allWords:\n",
    "        allWords[word] = 1\n",
    "    else:\n",
    "        allWords[word] += 1\n",
    "\n",
    "#kelime sıklığını ve kelimeleri yazdırdım.\n",
    "for key in allWords.keys():\n",
    "   print (\"Word: %s =>%s \" %(key , allWords[key]))\n"
   ]
  },
  {
   "cell_type": "code",
   "execution_count": null,
   "id": "a2156c93-e9a2-4954-8784-a443d2b90c4a",
   "metadata": {},
   "outputs": [],
   "source": []
  }
 ],
 "metadata": {
  "kernelspec": {
   "display_name": "Python 3 (ipykernel)",
   "language": "python",
   "name": "python3"
  },
  "language_info": {
   "codemirror_mode": {
    "name": "ipython",
    "version": 3
   },
   "file_extension": ".py",
   "mimetype": "text/x-python",
   "name": "python",
   "nbconvert_exporter": "python",
   "pygments_lexer": "ipython3",
   "version": "3.9.7"
  }
 },
 "nbformat": 4,
 "nbformat_minor": 5
}
